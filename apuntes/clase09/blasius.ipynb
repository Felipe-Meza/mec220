{
 "cells": [
  {
   "cell_type": "markdown",
   "metadata": {},
   "source": [
    "# Perfil de velocidad de Blasius\n",
    "\n",
    "En clases derivamos la ecuación de Blasius para el perfil de velocidad dentro de la capa límite sobre una placa plana:\n",
    "\n",
    "\\begin{equation}\n",
    "f'''+\\frac{1}{2}ff''=0\n",
    "\\end{equation}\n",
    "\n",
    "donde sabemos que\n",
    "\n",
    "\\begin{align}\n",
    "f'(\\eta) = \\frac{u}{U_\\infty}\\\\\n",
    "\\eta = y\\left(\\frac{U_\\infty}{\\nu x}\\right)^{1/2}\n",
    "\\end{align}\n",
    "\n",
    "y las condiciones de borde\n",
    "\n",
    "\\begin{align}\n",
    "f'(0) = 0\\\\\n",
    "f'(\\infty) = 1\\\\\n",
    "f(0) = 0\n",
    "\\end{align}\n",
    "\n",
    "En $\\eta$, la coordenada $x$ corre paralela a la placa plana e $y$ perpendicular a esta.\n",
    "\n",
    "\n",
    "\n",
    "## Espesor de capa límite a partir de la ecuación de Blasius\n",
    "\n",
    "La derivación de Blasius nos dejó con una ecuación diferencial ordinaria de tercer orden, donde la función $f$ depende de solamente una variable ($\\eta$). A continuación presentamos un pequeño código que integra la ecuación diferencial numéricamente (utilizando método de Euler de primer orden), para encontrar la solución para $f$, y, por ende, $f'$ y $u(y)$.\n",
    "\n",
    "El método de Euler integra numéricamente de la siguiente manera\n",
    "\n",
    "\\begin{equation}\n",
    "F^{n+1} = F^n + h F'^n\n",
    "\\end{equation}\n",
    "\n",
    "Escribamos una función que haga la iteración de Euler"
   ]
  },
  {
   "cell_type": "code",
   "execution_count": null,
   "metadata": {
    "collapsed": true
   },
   "outputs": [],
   "source": [
    "import numpy\n",
    "\n",
    "def Euler(F, N, h):\n",
    "    for i in range(N):\n",
    "        k1 = h * f_prima(F[i,:])\n",
    "        F[i+1,:] = F[i,:] + k1\n",
    "    \n",
    "    return F"
   ]
  },
  {
   "cell_type": "markdown",
   "metadata": {},
   "source": [
    "En este caso, $F$ será el vector\n",
    "\n",
    "\\begin{equation}\n",
    "F = \\left(\n",
    "\\begin{array}{c}\n",
    "f\\\\\n",
    "f'\\\\\n",
    "f''\\\\\n",
    "\\end{array}\n",
    "\\right)\n",
    "\\end{equation}\n",
    "\n",
    "por lo que $F'$ es\n",
    "\n",
    "\\begin{equation}\n",
    "F' = \\left(\n",
    "\\begin{array}{c}\n",
    "f'\\\\\n",
    "f''\\\\\n",
    "f'''\\\\\n",
    "\\end{array}\n",
    "\\right)\n",
    "\\end{equation}\n",
    "\n",
    "Pero por la ecuación de Blasius, podemos escribir $f'''=-\\frac{1}{2}ff''$, y $F'$ queda\n",
    "\n",
    "\\begin{equation}\n",
    "F' = \\left(\n",
    "\\begin{array}{c}\n",
    "f'\\\\\n",
    "f''\\\\\n",
    "-\\frac{1}{2}ff''\\\\\n",
    "\\end{array}\n",
    "\\right)\n",
    "\\end{equation}"
   ]
  },
  {
   "cell_type": "code",
   "execution_count": null,
   "metadata": {
    "collapsed": true
   },
   "outputs": [],
   "source": [
    "def f_prima(F):\n",
    "    return numpy.array([F[1], F[2], -F[2]*F[0]/2])"
   ]
  },
  {
   "cell_type": "markdown",
   "metadata": {},
   "source": [
    "La ecuación de Blasius es de tercer orden y tenemos tres condiciones de contorno, por lo que deberíamos ser capaces de resolver la ecuación, sin embargo, una de esas condiciones está situada al \"final\" de nuestra evaluación. Para resolver este problema numéricamente usaremos la técnica de *shooting*: buscar la condición de contorno en $f''(0)$ tal que se cumpla la condición $f'(\\infty) = 1$. \n",
    "\n",
    "El punto $\\eta\\to\\infty$ está lejos de la placa. Consideremos que $\\eta=10$ ya está suficientemente lejos, y $f(10)\\approx1$.\n",
    "\n",
    "Con prueba y error (no muy eficiente!) llegamos a que la condición de contorno $f''(0)=0.3152$ cumple con $f(10)\\approx1$."
   ]
  },
  {
   "cell_type": "code",
   "execution_count": null,
   "metadata": {
    "collapsed": false
   },
   "outputs": [],
   "source": [
    "L = 10.\n",
    "N = 100\n",
    "n = 3\n",
    "\n",
    "U_inf = 1.\n",
    "\n",
    "a = 0\n",
    "b = L\n",
    "h = (b-a)/N\n",
    "\n",
    "z = numpy.arange(a,b+h,h)\n",
    "F = numpy.zeros((N+1, n))\n",
    "\n",
    "F[0,:] = [0., 0., 0.3152]\n",
    "\n",
    "F = Euler(F,N,h)\n",
    "\n",
    "u = F[:,1]*U_inf\n",
    "\n",
    "print r'eta u'\n",
    "for i in range(N+1):\n",
    "    print '{0} {1}'.format(z[i], u[i])"
   ]
  },
  {
   "cell_type": "markdown",
   "metadata": {},
   "source": [
    "Fíjense que $u=0.99U_\\infty$ en $\\eta=5$. Por lo tanto, en ese punto $y=\\delta$ y quedamos con \n",
    "\n",
    "\\begin{equation}\n",
    "\\frac{\\delta}{x}=\\frac{5}{\\left(\\frac{U_\\infty x}{\\nu}\\right)^{1/2}} = \\frac{5}{\\sqrt{Re_x}} \n",
    "\\end{equation}\n",
    "\n",
    "Grafiquemos el perfil de velocidad en $x=0.1$, $x=1$ y $x=2$."
   ]
  },
  {
   "cell_type": "code",
   "execution_count": null,
   "metadata": {
    "collapsed": false
   },
   "outputs": [],
   "source": [
    "from matplotlib import pyplot\n",
    "%matplotlib inline\n",
    "\n",
    "nu = 1\n",
    "x1 = 0.1\n",
    "x2 = 1.\n",
    "x3 = 2.\n",
    "y1 = z * (nu*x1/U_inf)\n",
    "y2 = z * (nu*x2/U_inf)\n",
    "y3 = z * (nu*x3/U_inf)\n",
    "\n",
    "pyplot.plot(u+x1,y1)\n",
    "pyplot.plot(u+x2,y2)\n",
    "pyplot.plot(u+x3,y3)\n",
    "pyplot.show()"
   ]
  },
  {
   "cell_type": "code",
   "execution_count": null,
   "metadata": {
    "collapsed": true
   },
   "outputs": [],
   "source": []
  }
 ],
 "metadata": {
  "kernelspec": {
   "display_name": "Python 2",
   "language": "python",
   "name": "python2"
  },
  "language_info": {
   "codemirror_mode": {
    "name": "ipython",
    "version": 2
   },
   "file_extension": ".py",
   "mimetype": "text/x-python",
   "name": "python",
   "nbconvert_exporter": "python",
   "pygments_lexer": "ipython2",
   "version": "2.7.9"
  }
 },
 "nbformat": 4,
 "nbformat_minor": 0
}
