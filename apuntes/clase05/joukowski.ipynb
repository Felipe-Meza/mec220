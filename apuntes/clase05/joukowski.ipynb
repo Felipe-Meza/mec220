{
 "cells": [
  {
   "cell_type": "code",
   "execution_count": null,
   "metadata": {
    "collapsed": false,
    "scrolled": true
   },
   "outputs": [],
   "source": [
    "import numpy\n",
    "from math import pi\n",
    "from matplotlib import pyplot, mlab\n",
    "%matplotlib inline\n",
    "pyplot.rcParams['font.family'] = 'serif'\n",
    "pyplot.rcParams['font.size'] = 16\n",
    "\n",
    "def Joukowsky(etha, a):\n",
    "    z = a/2. * (etha + 1/etha)\n",
    "\n",
    "    return z\n",
    "\n",
    "def circulo(centro, R, N):\n",
    "    alpha = numpy.linspace(0,2*pi,N)\n",
    "\n",
    "    x_prime = R*numpy.cos(alpha)\n",
    "    y_prime = R*numpy.sin(alpha)\n",
    "    \n",
    "    etha = numpy.array(x_prime+1j*y_prime)\n",
    "    \n",
    "    etha += centro\n",
    "    \n",
    "    return etha\n",
    "    \n",
    "\n",
    "N = 101\n",
    "centro_x = -0.1\n",
    "centro_y = 0.    \n",
    "\n",
    "# Radio para que circulo intersecte punto (1,0)\n",
    "# Ojo: el punto (-1,0) debiese queda DENTRO del circulo (no lo checkeo aca)\n",
    "R = numpy.sqrt((1-centro_x)**2+centro_y**2)\n",
    "\n",
    "# Tamaño del perfil\n",
    "a = 1\n",
    "\n",
    "centro = centro_x+centro_y*1j\n",
    "\n",
    "# Generar cilindro\n",
    "etha = circulo(centro, R, N)\n",
    "\n",
    "x_cil = numpy.real(etha)\n",
    "y_cil = numpy.imag(etha)\n",
    "\n",
    "pyplot.figure()\n",
    "\n",
    "fig=pyplot.plot(x_cil,y_cil,c='k')\n",
    "fig2=pyplot.plot(0, 0, marker='+', markersize=10, c='k')\n",
    "fig3=pyplot.plot(centro_x,centro_y,marker='o', markersize=5, c='k')\n",
    "pyplot.axis('equal')\n",
    "pyplot.xlim([-(R+numpy.abs(centro))-0.1,(R+numpy.abs(centro))+0.1])\n",
    "pyplot.ylim([-(R+numpy.abs(centro))-0.1,(R+numpy.abs(centro))+0.1])"
   ]
  },
  {
   "cell_type": "code",
   "execution_count": null,
   "metadata": {
    "collapsed": false
   },
   "outputs": [],
   "source": [
    "# Generar perfil de Joukouski\n",
    "z = Joukowsky(etha, a)\n",
    "\n",
    "x = numpy.real(z)\n",
    "y = numpy.imag(z)\n",
    "\n",
    "pyplot.clf()\n",
    "pyplot.figure()\n",
    "fig=pyplot.plot(x,y,c='k')\n",
    "pyplot.axis('equal')\n",
    "pyplot.xlim([-a-0.1,a+0.1])\n",
    "pyplot.ylim([-a-0.1,a+0.1])"
   ]
  },
  {
   "cell_type": "code",
   "execution_count": null,
   "metadata": {
    "collapsed": false
   },
   "outputs": [],
   "source": [
    "nx = 100\n",
    "L = 6.0\n",
    "xp = numpy.linspace(-L/2,L/2,nx)\n",
    "Xp,Yp = numpy.meshgrid(xp,xp)\n",
    "\n",
    "Zp = Xp + Yp*1j\n",
    "\n",
    "alpha_at = 10*pi/180.\n",
    "\n",
    "# Flujo uniforme\n",
    "U_inf = 1.\n",
    "PHI_U = U_inf*Zp*numpy.exp(-1j*alpha_at)\n",
    "\n",
    "# Doblete (corrido a 'centro')\n",
    "K= R**2*U_inf\n",
    "PHI_d = K/(Zp-centro)*numpy.exp(-1j*alpha_at)\n",
    "\n",
    "# Vortice (corrido a 'centro')\n",
    "Gamma = 2.\n",
    "PHI_v = 1j*Gamma/(2*pi)*numpy.log(Zp-centro)\n",
    "\n",
    "# Constante extra para que psi=0 sea siempre el cilindro\n",
    "PHI_c = PHI_U + PHI_d + PHI_v #- 1j*Gamma/(2*pi)*numpy.log(R-numpy.abs(centro))\n",
    "\n",
    "psi_c = numpy.imag(PHI_c)\n",
    "phi_c = numpy.real(PHI_c)\n",
    "\n",
    "contours = numpy.arange(-4,4,0.5)\n",
    "\n",
    "pyplot.figure()\n",
    "C = pyplot.contour(Xp, Yp, psi_c, contours, colors='k')\n",
    "C2 = pyplot.plot(x_cil,y_cil,c='r')\n",
    "pyplot.clabel(C, inline=1, fontsize=10)\n",
    "\n",
    "pyplot.axis('equal')\n",
    "pyplot.xlim([-L/2,L/2])\n",
    "pyplot.ylim([-L/2,L/2])\n"
   ]
  },
  {
   "cell_type": "code",
   "execution_count": null,
   "metadata": {
    "collapsed": false,
    "scrolled": true
   },
   "outputs": [],
   "source": [
    "from scipy import interpolate\n",
    "\n",
    "# Conviene pasar Zp y psi a 1D (por numpy.where y mlab.griddata)\n",
    "Zp_1D = numpy.ravel(Zp)\n",
    "psi_c_1D = numpy.ravel(psi_c)\n",
    "\n",
    "# Los puntos dentro del cilindro no tienen significado fisico y los sacamos\n",
    "fuera_cil = numpy.where(numpy.abs(Zp_1D-centro)>R)[0]\n",
    "\n",
    "psi_perfil = psi_c_1D[fuera_cil]\n",
    "\n",
    "Z = Joukowsky(Zp_1D[fuera_cil], a)\n",
    "X = numpy.ravel(numpy.real(Z))\n",
    "Y = numpy.ravel(numpy.imag(Z))\n",
    "\n",
    "\n",
    "# pyplot.countour funciona solamente con mallas regulares\n",
    "# Interpolar X,Y a malla regular\n",
    "xi= numpy.linspace(-L/2,L/2,200)\n",
    "Xi,Yi = numpy.meshgrid(xi,xi)\n",
    "\n",
    "psi_i = mlab.griddata(X, Y, psi_perfil, Xi, Yi, interp='linear')\n",
    "\n",
    "\n",
    "pyplot.clf()\n",
    "pyplot.figure()\n",
    "contours = numpy.arange(-4,4,0.3)\n",
    "\n",
    "C=pyplot.contour(Xi, Yi, psi_i, contours, colors='k')\n",
    "C2=pyplot.plot(x,y,c='r')\n",
    "#pyplot.clabel(C, inline=1, fontsize=10)\n",
    "\n",
    "pyplot.axis('equal')\n",
    "pyplot.xlim([-a-0.1,a+0.1])\n",
    "pyplot.ylim([-a-0.1,a+0.1])"
   ]
  },
  {
   "cell_type": "code",
   "execution_count": null,
   "metadata": {
    "collapsed": true
   },
   "outputs": [],
   "source": []
  },
  {
   "cell_type": "code",
   "execution_count": null,
   "metadata": {
    "collapsed": true
   },
   "outputs": [],
   "source": []
  }
 ],
 "metadata": {
  "kernelspec": {
   "display_name": "Python 2",
   "language": "python",
   "name": "python2"
  },
  "language_info": {
   "codemirror_mode": {
    "name": "ipython",
    "version": 2
   },
   "file_extension": ".py",
   "mimetype": "text/x-python",
   "name": "python",
   "nbconvert_exporter": "python",
   "pygments_lexer": "ipython2",
   "version": "2.7.6"
  }
 },
 "nbformat": 4,
 "nbformat_minor": 0
}
